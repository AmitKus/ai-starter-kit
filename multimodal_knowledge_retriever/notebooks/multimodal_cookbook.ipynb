{
 "cells": [
  {
   "cell_type": "code",
   "execution_count": 37,
   "metadata": {},
   "outputs": [
    {
     "data": {
      "text/plain": [
       "True"
      ]
     },
     "execution_count": 37,
     "metadata": {},
     "output_type": "execute_result"
    }
   ],
   "source": [
    "import os\n",
    "import sys\n",
    "\n",
    "import json\n",
    "from pprint import pprint\n",
    "\n",
    "current_dir = os.getcwd()\n",
    "kit_dir = os.path.abspath(os.path.join(current_dir, \"..\"))\n",
    "repo_dir = os.path.abspath(os.path.join(kit_dir, \"..\"))\n",
    "\n",
    "sys.path.append(kit_dir)\n",
    "sys.path.append(repo_dir)\n",
    "\n",
    "from dotenv import load_dotenv\n",
    "\n",
    "load_dotenv(os.path.join(repo_dir, '.env'), override=True)"
   ]
  },
  {
   "cell_type": "markdown",
   "metadata": {},
   "source": [
    "# Multimodal wrapper"
   ]
  },
  {
   "cell_type": "code",
   "execution_count": 3,
   "metadata": {},
   "outputs": [],
   "source": [
    "from utils.model_wrappers.multimodal_models import SambastudioMultimodal\n",
    "\n",
    "lvlm=SambastudioMultimodal(\n",
    "    model=\"llava-v1.5-7b\", \n",
    "    temperature = 0.01,\n",
    "    max_tokens_to_generate = 1024,\n",
    ")"
   ]
  },
  {
   "cell_type": "code",
   "execution_count": 8,
   "metadata": {},
   "outputs": [
    {
     "data": {
      "text/plain": [
       "'The image shows a rooster standing on a skateboard. The background appears to be a grassy area, possibly a park, with some scattered leaves on the ground. The rooster is positioned in the center of the skateboard, and the scene is well-lit, suggesting it is daytime.'"
      ]
     },
     "execution_count": 8,
     "metadata": {},
     "output_type": "execute_result"
    }
   ],
   "source": [
    "lvlm.invoke(\n",
    "    image=\"https://www.freeimageslive.co.uk/files/images005/skateboard-chicken.preview.jpg\",\n",
    "    prompt=\"what can you see in the image?\"\n",
    "    )"
   ]
  },
  {
   "cell_type": "code",
   "execution_count": 23,
   "metadata": {},
   "outputs": [
    {
     "data": {
      "text/plain": [
       "'The image is a scatter plot graph titled \"Number of Birds on a Tree vs Time of the day.\" \\n\\n- The x-axis represents the \"Time of the day,\" with labels at 6AM, 8AM, 10AM, 12PM, 2PM, and 4PM.\\n- The y-axis represents the \"Number of Birds,\" with labels at 10, 20, 30, and 40.\\n\\nThe data points on the graph indicate the number of birds observed at different times of the day:\\n\\n- At 6AM, there are approximately 20 birds.\\n- At 8AM, there are approximately 30 birds.\\n- At 10AM, there are approximately 20 birds.\\n- At 12PM, there are approximately 30 birds.\\n- At 2PM, there are approximately 40 birds.\\n- At 4PM, there are approximately 10 birds.\\n\\nThe graph is from Cuemath, as indicated by the logo in the top right corner.'"
      ]
     },
     "execution_count": 23,
     "metadata": {},
     "output_type": "execute_result"
    }
   ],
   "source": [
    "lvlm.invoke(image=os.path.join(kit_dir,\"data/sample_docs/sample.png\"),\n",
    "            prompt=\"what can you see in the image?\"\n",
    "            )"
   ]
  },
  {
   "cell_type": "code",
   "execution_count": 9,
   "metadata": {},
   "outputs": [
    {
     "data": {
      "text/plain": [
       "'The image is a scatter plot graph titled \"Number of Birds on a Tree vs Time of the day.\" The x-axis represents the time of the day, ranging from 6 AM to 4 PM, and the y-axis represents the number of birds, ranging from 10 to 40.\\n\\nHere are the data points plotted on the graph:\\n- At 6 AM, there are approximately 20 birds.\\n- At 8 AM, there are approximately 30 birds.\\n- At 10 AM, there are approximately 20 birds.\\n- At 12 PM, there are approximately 30 birds.\\n- At 2 PM, there are approximately 40 birds.\\n- At 4 PM, there are approximately 10 birds.\\n\\nThe graph shows the variation in the number of birds on a tree at different times of the day.'"
      ]
     },
     "execution_count": 9,
     "metadata": {},
     "output_type": "execute_result"
    }
   ],
   "source": [
    "image=lvlm.image_to_base64(os.path.join(kit_dir,\"data/sample_docs/sample.png\"))\n",
    "lvlm.invoke(image=image,\n",
    "            prompt=\"what can you see in the image?\"\n",
    "            )"
   ]
  },
  {
   "cell_type": "markdown",
   "metadata": {},
   "source": [
    "# Prompt engineering"
   ]
  },
  {
   "cell_type": "markdown",
   "metadata": {},
   "source": [
    "conunting"
   ]
  },
  {
   "cell_type": "code",
   "execution_count": 19,
   "metadata": {},
   "outputs": [
    {
     "data": {
      "text/plain": [
       "'There are ten cars in the image.'"
      ]
     },
     "execution_count": 19,
     "metadata": {},
     "output_type": "execute_result"
    }
   ],
   "source": [
    "lvlm.invoke(image=\"https://cdn4.picryl.com/photo/2010/01/01/american-vintage-cars-line-up-near-the-havana-cuba-capitol-and-chinatown-in-3-1024.jpg\",\n",
    "            prompt=\"How many cars are in the image?\"\n",
    "            )"
   ]
  },
  {
   "cell_type": "code",
   "execution_count": 20,
   "metadata": {},
   "outputs": [
    {
     "data": {
      "text/plain": [
       "'1. Start from the left side of the image.\\n2. Identify the first car (white car).\\n3. Move to the right and identify the second car (maroon car).\\n4. Continue to the right and identify the third car (green car).\\n5. Continue to the right and identify the fourth car (blue car).\\n6. Continue to the right and identify the fifth car (light blue car).\\n7. Continue to the right and identify the sixth car (blue car).\\n8. Continue to the right and identify the seventh car (red car).\\n9. Continue to the right and identify the eighth car (brown car).\\n10. Continue to the right and identify the ninth car (brown car).\\n\\nAnswer: 9'"
      ]
     },
     "execution_count": 20,
     "metadata": {},
     "output_type": "execute_result"
    }
   ],
   "source": [
    "count_prompt = (\"You are an expert counting system, \" \n",
    "                \"How many cars are in the image? \" \n",
    "                \"think step by step in and analyze every part of the image Before providing the answer \"\n",
    "                \"you must finalize with Answer:<count>\")\n",
    "lvlm.invoke(image=\"https://cdn4.picryl.com/photo/2010/01/01/american-vintage-cars-line-up-near-the-havana-cuba-capitol-and-chinatown-in-3-1024.jpg\",\n",
    "            prompt=count_prompt\n",
    "            )"
   ]
  },
  {
   "cell_type": "markdown",
   "metadata": {},
   "source": [
    "plot undesrtanding"
   ]
  },
  {
   "cell_type": "code",
   "execution_count": 27,
   "metadata": {},
   "outputs": [
    {
     "data": {
      "text/plain": [
       "'Before 7 AM, the graph shows the number of birds at 6 AM. According to the graph, there are 30 birds seen at 6 AM.'"
      ]
     },
     "execution_count": 27,
     "metadata": {},
     "output_type": "execute_result"
    }
   ],
   "source": [
    "lvlm.invoke(image=os.path.join(kit_dir,\"data/sample_docs/sample.png\"),\n",
    "            prompt=\"how many birds have been seen before 7am?\"\n",
    "            )"
   ]
  },
  {
   "cell_type": "code",
   "execution_count": 26,
   "metadata": {},
   "outputs": [
    {
     "data": {
      "text/plain": [
       "'To determine how many birds have been seen before 7am, we need to look at the data points on the graph that correspond to times before 7am. \\n\\n1. Identify the x-axis, which represents the time of the day.\\n2. Locate the point on the x-axis that corresponds to 6AM.\\n3. Observe the y-axis value at 6AM, which represents the number of birds seen at that time.\\n\\nFrom the graph:\\n- At 6AM, the number of birds seen is 20.\\n\\nTherefore, the number of birds seen before 7am is 20.'"
      ]
     },
     "execution_count": 26,
     "metadata": {},
     "output_type": "execute_result"
    }
   ],
   "source": [
    "lvlm.invoke(image=os.path.join(kit_dir,\"data/sample_docs/sample.png\"),\n",
    "            prompt=\"You are an expert chart and plot reader think step by step before giving an answer to the following question: how many birds have been seen before 7am?\"\n",
    "            )"
   ]
  },
  {
   "cell_type": "markdown",
   "metadata": {},
   "source": [
    "question with indications in image"
   ]
  },
  {
   "cell_type": "code",
   "execution_count": 30,
   "metadata": {},
   "outputs": [
    {
     "data": {
      "text/plain": [
       "'The mitochondria, often referred to as the \"powerhouses of the cell,\" are organelles responsible for producing energy. They generate adenosine triphosphate (ATP), the cell\\'s main energy currency, through a process called oxidative phosphorylation, which is part of cellular respiration. This process involves the breakdown of glucose and other nutrients in the presence of oxygen to produce ATP, water, and carbon dioxide. Mitochondria also play roles in other cellular processes such as signaling, cellular differentiation, and cell death, as well as maintaining control of the cell cycle and cell growth.'"
      ]
     },
     "execution_count": 30,
     "metadata": {},
     "output_type": "execute_result"
    }
   ],
   "source": [
    "lvlm.invoke(image=os.path.join(kit_dir,\"data/sample_docs/sample2.jpg\"),\n",
    "            prompt=\"whats the function of the mitochondria?\"\n",
    "            )"
   ]
  },
  {
   "cell_type": "code",
   "execution_count": 7,
   "metadata": {},
   "outputs": [
    {
     "data": {
      "text/plain": [
       "'The highlighted organelle in the image is the mitochondrion. The primary function of mitochondria is to generate adenosine triphosphate (ATP), which is the main energy currency of the cell. This process is known as cellular respiration. Mitochondria are also involved in other important cellular processes such as the regulation of the cell cycle and cell growth, signaling, and apoptosis (programmed cell death).'"
      ]
     },
     "execution_count": 7,
     "metadata": {},
     "output_type": "execute_result"
    }
   ],
   "source": [
    "lvlm.invoke(image=os.path.join(kit_dir,\"data/sample_docs/sample2marked.jpg\"),\n",
    "            prompt=\"whats the function of the highlighted organelle\"\n",
    "            )"
   ]
  },
  {
   "cell_type": "markdown",
   "metadata": {},
   "source": [
    "Question in image"
   ]
  },
  {
   "cell_type": "code",
   "execution_count": 10,
   "metadata": {},
   "outputs": [
    {
     "data": {
      "text/plain": [
       "\"The image is a labeled diagram of a yeast cell. The question in the image asks about the function of the vacuole.\\n\\nThe vacuole in a yeast cell has several functions:\\n1. **Storage**: It stores nutrients, waste products, and other substances.\\n2. **Detoxification**: It helps in detoxifying the cell by sequestering harmful substances.\\n3. **pH Homeostasis**: It maintains the internal pH of the cell.\\n4. **Ion Homeostasis**: It regulates the concentration of ions within the cell.\\n5. **Degradation**: It contains enzymes that break down macromolecules and cellular debris.\\n\\nOverall, the vacuole plays a crucial role in maintaining the cell's internal environment and ensuring its proper functioning.\""
      ]
     },
     "execution_count": 10,
     "metadata": {},
     "output_type": "execute_result"
    }
   ],
   "source": [
    "lvlm.invoke(image=os.path.join(kit_dir,\"data/sample_docs/sample2question2.jpg\"),\n",
    "            prompt=\"\"\n",
    "            )"
   ]
  },
  {
   "cell_type": "markdown",
   "metadata": {},
   "source": [
    "Tanscription"
   ]
  },
  {
   "cell_type": "code",
   "execution_count": 30,
   "metadata": {},
   "outputs": [],
   "source": [
    "#simple doc\n",
    "from pdf2image import convert_from_path\n",
    "import base64\n",
    "from io import BytesIO\n",
    "\n",
    "images = convert_from_path(os.path.join(kit_dir,\"data/sample_docs/invoicesample.pdf\"))\n",
    "\n",
    "image = images[0]\n",
    "\n",
    "# Convert the image to base64\n",
    "buffered = BytesIO()\n",
    "image.save(buffered, format=\"PNG\")\n",
    "img_str = base64.b64encode(buffered.getvalue()).decode()"
   ]
  },
  {
   "cell_type": "code",
   "execution_count": 34,
   "metadata": {},
   "outputs": [
    {
     "name": "stdout",
     "output_type": "stream",
     "text": [
      "('ATTENTION TO\\n'\n",
      " '\\n'\n",
      " 'Denny Gunawan\\n'\n",
      " '\\n'\n",
      " '221 Queen St\\n'\n",
      " 'Melbourne VIC 3000\\n'\n",
      " '\\n'\n",
      " '$39.60\\n'\n",
      " '\\n'\n",
      " '123 Somewhere St, Melbourne VIC 3000\\n'\n",
      " '(03) 1234 5678\\n'\n",
      " '\\n'\n",
      " 'Invoice Number: #20130304\\n'\n",
      " '\\n'\n",
      " '| Organic Items | Price/kg | Quantity(kg) | Subtotal |\\n'\n",
      " '|---------------|----------|--------------|----------|\\n'\n",
      " '| Apple         | $5.00    | 1            | $5.00    |\\n'\n",
      " '| Orange        | $1.99    | 2            | $3.98    |\\n'\n",
      " '| Watermelon    | $1.69    | 3            | $5.07    |\\n'\n",
      " '| Mango         | $9.56    | 2            | $19.12   |\\n'\n",
      " '| Peach         | $2.99    | 1            | $2.99    |\\n'\n",
      " '\\n'\n",
      " 'THANK YOU\\n'\n",
      " '\\n'\n",
      " '* Lorem ipsum dolor sit amet, consectetur adipiscing elit. Aliquam sodales '\n",
      " 'dapibus fermentum. Nunc adipiscing, magna sed scelerisque cursus, erat '\n",
      " 'lectus dapibus urna, sed facilisis leo dui et ipsum.\\n'\n",
      " '\\n'\n",
      " 'Subtotal: $36.00\\n'\n",
      " 'GST (10%): $3.60\\n'\n",
      " 'Total: $39.60')\n"
     ]
    }
   ],
   "source": [
    "pprint(lvlm.invoke(image=img_str,\n",
    "            prompt=\"transcribe the text in the image\"\n",
    "            ))"
   ]
  },
  {
   "cell_type": "code",
   "execution_count": 40,
   "metadata": {},
   "outputs": [
    {
     "name": "stdout",
     "output_type": "stream",
     "text": [
      "```json\n",
      "{\n",
      "  \"Date\": \"9/14/19\",\n",
      "  \"Name\": \"Sally Walker\",\n",
      "  \"DOB\": \"09/04/1986\",\n",
      "  \"Address\": \"24 Barney Lane\",\n",
      "  \"City\": \"Towaco\",\n",
      "  \"State\": \"NJ\",\n",
      "  \"Zip\": \"07082\",\n",
      "  \"Email\": \"sally.walker@gmail.com\",\n",
      "  \"Phone #\": \"(906) 917-3486\",\n",
      "  \"Gender\": \"F\",\n",
      "  \"Marital Status\": \"Single\",\n",
      "  \"Occupation\": \"Software Engineer\",\n",
      "  \"Referred By\": \"None\",\n",
      "  \"Emergency Contact\": \"Eva Walker\",\n",
      "  \"Emergency Contact Phone\": \"(906) 334-8926\",\n",
      "  \"Describe your medical concerns\": \"runny nose, mucus in throat, weakness, aches, chills, tired\"\n",
      "}\n",
      "```\n"
     ]
    }
   ],
   "source": [
    "response = lvlm.invoke(image=\"https://global.discourse-cdn.com/bubble/original/3X/4/a/4adf3c255f411eaba5bbd1cf2bcd2da5e7ec919d.jpeg\",\n",
    "                    prompt=\"transcribe the form in the image the output shoud be in json format including each field as key: value\"\n",
    ")\n",
    "print(response)"
   ]
  },
  {
   "cell_type": "code",
   "execution_count": 52,
   "metadata": {},
   "outputs": [],
   "source": [
    "def parse_json(str_input):\n",
    "    json_response = str_input.replace(\"```json\",\"\")\n",
    "    json_response = json_response.replace(\"```\",\"\")\n",
    "    json_response = json_response.strip()\n",
    "    return json.loads(json_response)"
   ]
  },
  {
   "cell_type": "code",
   "execution_count": 56,
   "metadata": {},
   "outputs": [
    {
     "data": {
      "text/plain": [
       "'9/14/19'"
      ]
     },
     "execution_count": 56,
     "metadata": {},
     "output_type": "execute_result"
    }
   ],
   "source": [
    "form = parse_json(response)\n",
    "form[\"Date\"]"
   ]
  },
  {
   "cell_type": "markdown",
   "metadata": {},
   "source": [
    "Sending multiple images"
   ]
  },
  {
   "cell_type": "code",
   "execution_count": null,
   "metadata": {},
   "outputs": [],
   "source": []
  }
 ],
 "metadata": {
  "kernelspec": {
   "display_name": "multimodalenv",
   "language": "python",
   "name": "python3"
  },
  "language_info": {
   "codemirror_mode": {
    "name": "ipython",
    "version": 3
   },
   "file_extension": ".py",
   "mimetype": "text/x-python",
   "name": "python",
   "nbconvert_exporter": "python",
   "pygments_lexer": "ipython3",
   "version": "3.11.3"
  }
 },
 "nbformat": 4,
 "nbformat_minor": 2
}
